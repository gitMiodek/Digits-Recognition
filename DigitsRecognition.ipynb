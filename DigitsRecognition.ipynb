{
 "cells": [
  {
   "cell_type": "code",
   "execution_count": 1,
   "id": "58171f5e",
   "metadata": {},
   "outputs": [],
   "source": [
    "import pandas as pd\n",
    "import numpy as np\n",
    "import matplotlib.pyplot as plt\n"
   ]
  },
  {
   "cell_type": "code",
   "execution_count": 2,
   "id": "09bfbe24",
   "metadata": {},
   "outputs": [],
   "source": [
    "from tensorflow import keras\n",
    "from tensorflow.keras import layers\n",
    "from tensorflow.keras import callbacks"
   ]
  },
  {
   "cell_type": "code",
   "execution_count": 3,
   "id": "2ead66f1",
   "metadata": {},
   "outputs": [],
   "source": [
    "from sklearn.model_selection import train_test_split"
   ]
  },
  {
   "cell_type": "code",
   "execution_count": 4,
   "id": "b8a024b7",
   "metadata": {},
   "outputs": [
    {
     "name": "stdout",
     "output_type": "stream",
     "text": [
      "Train shape: (42000, 785)\n",
      "Test shape: (28000, 784)\n"
     ]
    }
   ],
   "source": [
    "#import datasets\n",
    "train = pd.read_csv('train.csv')\n",
    "test = pd.read_csv('test.csv')\n",
    "print('Train shape: {}\\nTest shape: {}'.format(train.shape,test.shape))"
   ]
  },
  {
   "cell_type": "code",
   "execution_count": 5,
   "id": "f7d7997e",
   "metadata": {
    "scrolled": false
   },
   "outputs": [
    {
     "data": {
      "text/html": [
       "<div>\n",
       "<style scoped>\n",
       "    .dataframe tbody tr th:only-of-type {\n",
       "        vertical-align: middle;\n",
       "    }\n",
       "\n",
       "    .dataframe tbody tr th {\n",
       "        vertical-align: top;\n",
       "    }\n",
       "\n",
       "    .dataframe thead th {\n",
       "        text-align: right;\n",
       "    }\n",
       "</style>\n",
       "<table border=\"1\" class=\"dataframe\">\n",
       "  <thead>\n",
       "    <tr style=\"text-align: right;\">\n",
       "      <th></th>\n",
       "      <th>label</th>\n",
       "      <th>pixel0</th>\n",
       "      <th>pixel1</th>\n",
       "      <th>pixel2</th>\n",
       "      <th>pixel3</th>\n",
       "      <th>pixel4</th>\n",
       "      <th>pixel5</th>\n",
       "      <th>pixel6</th>\n",
       "      <th>pixel7</th>\n",
       "      <th>pixel8</th>\n",
       "      <th>...</th>\n",
       "      <th>pixel774</th>\n",
       "      <th>pixel775</th>\n",
       "      <th>pixel776</th>\n",
       "      <th>pixel777</th>\n",
       "      <th>pixel778</th>\n",
       "      <th>pixel779</th>\n",
       "      <th>pixel780</th>\n",
       "      <th>pixel781</th>\n",
       "      <th>pixel782</th>\n",
       "      <th>pixel783</th>\n",
       "    </tr>\n",
       "  </thead>\n",
       "  <tbody>\n",
       "    <tr>\n",
       "      <th>0</th>\n",
       "      <td>1</td>\n",
       "      <td>0</td>\n",
       "      <td>0</td>\n",
       "      <td>0</td>\n",
       "      <td>0</td>\n",
       "      <td>0</td>\n",
       "      <td>0</td>\n",
       "      <td>0</td>\n",
       "      <td>0</td>\n",
       "      <td>0</td>\n",
       "      <td>...</td>\n",
       "      <td>0</td>\n",
       "      <td>0</td>\n",
       "      <td>0</td>\n",
       "      <td>0</td>\n",
       "      <td>0</td>\n",
       "      <td>0</td>\n",
       "      <td>0</td>\n",
       "      <td>0</td>\n",
       "      <td>0</td>\n",
       "      <td>0</td>\n",
       "    </tr>\n",
       "    <tr>\n",
       "      <th>1</th>\n",
       "      <td>0</td>\n",
       "      <td>0</td>\n",
       "      <td>0</td>\n",
       "      <td>0</td>\n",
       "      <td>0</td>\n",
       "      <td>0</td>\n",
       "      <td>0</td>\n",
       "      <td>0</td>\n",
       "      <td>0</td>\n",
       "      <td>0</td>\n",
       "      <td>...</td>\n",
       "      <td>0</td>\n",
       "      <td>0</td>\n",
       "      <td>0</td>\n",
       "      <td>0</td>\n",
       "      <td>0</td>\n",
       "      <td>0</td>\n",
       "      <td>0</td>\n",
       "      <td>0</td>\n",
       "      <td>0</td>\n",
       "      <td>0</td>\n",
       "    </tr>\n",
       "    <tr>\n",
       "      <th>2</th>\n",
       "      <td>1</td>\n",
       "      <td>0</td>\n",
       "      <td>0</td>\n",
       "      <td>0</td>\n",
       "      <td>0</td>\n",
       "      <td>0</td>\n",
       "      <td>0</td>\n",
       "      <td>0</td>\n",
       "      <td>0</td>\n",
       "      <td>0</td>\n",
       "      <td>...</td>\n",
       "      <td>0</td>\n",
       "      <td>0</td>\n",
       "      <td>0</td>\n",
       "      <td>0</td>\n",
       "      <td>0</td>\n",
       "      <td>0</td>\n",
       "      <td>0</td>\n",
       "      <td>0</td>\n",
       "      <td>0</td>\n",
       "      <td>0</td>\n",
       "    </tr>\n",
       "    <tr>\n",
       "      <th>3</th>\n",
       "      <td>4</td>\n",
       "      <td>0</td>\n",
       "      <td>0</td>\n",
       "      <td>0</td>\n",
       "      <td>0</td>\n",
       "      <td>0</td>\n",
       "      <td>0</td>\n",
       "      <td>0</td>\n",
       "      <td>0</td>\n",
       "      <td>0</td>\n",
       "      <td>...</td>\n",
       "      <td>0</td>\n",
       "      <td>0</td>\n",
       "      <td>0</td>\n",
       "      <td>0</td>\n",
       "      <td>0</td>\n",
       "      <td>0</td>\n",
       "      <td>0</td>\n",
       "      <td>0</td>\n",
       "      <td>0</td>\n",
       "      <td>0</td>\n",
       "    </tr>\n",
       "    <tr>\n",
       "      <th>4</th>\n",
       "      <td>0</td>\n",
       "      <td>0</td>\n",
       "      <td>0</td>\n",
       "      <td>0</td>\n",
       "      <td>0</td>\n",
       "      <td>0</td>\n",
       "      <td>0</td>\n",
       "      <td>0</td>\n",
       "      <td>0</td>\n",
       "      <td>0</td>\n",
       "      <td>...</td>\n",
       "      <td>0</td>\n",
       "      <td>0</td>\n",
       "      <td>0</td>\n",
       "      <td>0</td>\n",
       "      <td>0</td>\n",
       "      <td>0</td>\n",
       "      <td>0</td>\n",
       "      <td>0</td>\n",
       "      <td>0</td>\n",
       "      <td>0</td>\n",
       "    </tr>\n",
       "  </tbody>\n",
       "</table>\n",
       "<p>5 rows × 785 columns</p>\n",
       "</div>"
      ],
      "text/plain": [
       "   label  pixel0  pixel1  pixel2  pixel3  pixel4  pixel5  pixel6  pixel7  \\\n",
       "0      1       0       0       0       0       0       0       0       0   \n",
       "1      0       0       0       0       0       0       0       0       0   \n",
       "2      1       0       0       0       0       0       0       0       0   \n",
       "3      4       0       0       0       0       0       0       0       0   \n",
       "4      0       0       0       0       0       0       0       0       0   \n",
       "\n",
       "   pixel8  ...  pixel774  pixel775  pixel776  pixel777  pixel778  pixel779  \\\n",
       "0       0  ...         0         0         0         0         0         0   \n",
       "1       0  ...         0         0         0         0         0         0   \n",
       "2       0  ...         0         0         0         0         0         0   \n",
       "3       0  ...         0         0         0         0         0         0   \n",
       "4       0  ...         0         0         0         0         0         0   \n",
       "\n",
       "   pixel780  pixel781  pixel782  pixel783  \n",
       "0         0         0         0         0  \n",
       "1         0         0         0         0  \n",
       "2         0         0         0         0  \n",
       "3         0         0         0         0  \n",
       "4         0         0         0         0  \n",
       "\n",
       "[5 rows x 785 columns]"
      ]
     },
     "execution_count": 5,
     "metadata": {},
     "output_type": "execute_result"
    }
   ],
   "source": [
    "train.head()"
   ]
  },
  {
   "cell_type": "code",
   "execution_count": 6,
   "id": "ac586ab7",
   "metadata": {},
   "outputs": [],
   "source": [
    "y = train.pop('label') #Label for digits"
   ]
  },
  {
   "cell_type": "markdown",
   "id": "243e14bf",
   "metadata": {},
   "source": [
    "In order to show image it has to be transformed to sqrt(784) x sqrt(784) matrix."
   ]
  },
  {
   "cell_type": "code",
   "execution_count": 7,
   "id": "17b35bcc",
   "metadata": {},
   "outputs": [],
   "source": [
    "data = train.to_numpy()\n"
   ]
  },
  {
   "cell_type": "code",
   "execution_count": 8,
   "id": "f4942b02",
   "metadata": {
    "scrolled": true
   },
   "outputs": [
    {
     "data": {
      "image/png": "[encoded data removed]",
      "text/plain": [
       "<Figure size 720x720 with 20 Axes>"
      ]
     },
     "metadata": {
      "needs_background": "light"
     },
     "output_type": "display_data"
    }
   ],
   "source": [
    "plt.figure(figsize = (10,10))\n",
    "for i in range(1,21):\n",
    "    plt.subplot(4,5,i)\n",
    "    img = data[i].reshape(28,28)\n",
    "    plt.imshow(img)\n",
    "    plt.title('Number: {}'.format(y[i]))"
   ]
  },
  {
   "cell_type": "code",
   "execution_count": 9,
   "id": "fb6f3e5c",
   "metadata": {},
   "outputs": [],
   "source": [
    "X_train, X_test, y_train, y_test = train_test_split(data,y,test_size = 0.2,shuffle = False,random_state = 42)"
   ]
  },
  {
   "cell_type": "code",
   "execution_count": 13,
   "id": "c17669c9",
   "metadata": {},
   "outputs": [],
   "source": [
    "#normalize values\n",
    "X_train = X_train/255.0\n",
    "X_test = X_test/255.0"
   ]
  },
  {
   "cell_type": "code",
   "execution_count": 17,
   "id": "4b85427c",
   "metadata": {
    "scrolled": false
   },
   "outputs": [],
   "source": [
    "input_shape = X_train.shape[1]\n",
    "#BUILD A MODEL\n",
    "model = keras.Sequential([\n",
    "    layers.Dense(512, activation='relu', input_shape=[input_shape]),\n",
    "    layers.BatchNormalization(),\n",
    "    layers.Dropout(0.5),\n",
    "    layers.Dense(256,activation = 'relu'),\n",
    "    layers.Dropout(0.3),\n",
    "    layers.Dense(128, activation = 'relu'),\n",
    "    layers.BatchNormalization(),\n",
    "    layers.Dropout(0.3),\n",
    "    layers.Dense(10, activation = 'sigmoid')\n",
    "])\n",
    "#BUILD A CALLBACK\n",
    "from tensorflow.keras.callbacks import EarlyStopping\n",
    "\n",
    "early_stopping = EarlyStopping(\n",
    "    min_delta=0.001,\n",
    "    patience=10,\n",
    "    restore_best_weights=True,\n",
    ")\n",
    "#BUILD A LEARNING RATE CHANGES\n",
    "from tensorflow.keras.callbacks import ReduceLROnPlateau\n",
    "lr_schedule = ReduceLROnPlateau(\n",
    "    patience=0,\n",
    "    factor=0.2,\n",
    "    min_lr=0.001,\n",
    ")\n",
    "#MODEL COMPLIE\n",
    "model.compile(\n",
    "optimizer='adam',\n",
    "              loss='sparse_categorical_crossentropy',\n",
    "              metrics=['accuracy']\n",
    ")\n"
   ]
  },
  {
   "cell_type": "code",
   "execution_count": 18,
   "id": "2ec45127",
   "metadata": {},
   "outputs": [
    {
     "name": "stdout",
     "output_type": "stream",
     "text": [
      "Epoch 1/500\n",
      "263/263 [==============================] - 9s 29ms/step - loss: 0.8601 - accuracy: 0.7350 - val_loss: 0.2029 - val_accuracy: 0.9425\n",
      "Epoch 2/500\n",
      "263/263 [==============================] - 8s 29ms/step - loss: 0.2404 - accuracy: 0.9262 - val_loss: 0.1180 - val_accuracy: 0.9629\n",
      "Epoch 3/500\n",
      "263/263 [==============================] - 8s 29ms/step - loss: 0.1761 - accuracy: 0.9461 - val_loss: 0.1056 - val_accuracy: 0.9673\n",
      "Epoch 4/500\n",
      "263/263 [==============================] - 11s 43ms/step - loss: 0.1539 - accuracy: 0.9523 - val_loss: 0.0976 - val_accuracy: 0.9701\n",
      "Epoch 5/500\n",
      "263/263 [==============================] - 11s 41ms/step - loss: 0.1274 - accuracy: 0.9611 - val_loss: 0.0924 - val_accuracy: 0.9723\n",
      "Epoch 6/500\n",
      "263/263 [==============================] - 9s 34ms/step - loss: 0.1155 - accuracy: 0.9644 - val_loss: 0.0876 - val_accuracy: 0.9731\n",
      "Epoch 7/500\n",
      "263/263 [==============================] - 10s 38ms/step - loss: 0.1013 - accuracy: 0.9685 - val_loss: 0.0866 - val_accuracy: 0.9733\n",
      "Epoch 8/500\n",
      "263/263 [==============================] - 12s 45ms/step - loss: 0.1009 - accuracy: 0.9675 - val_loss: 0.0872 - val_accuracy: 0.9742\n",
      "Epoch 9/500\n",
      "263/263 [==============================] - 11s 42ms/step - loss: 0.0952 - accuracy: 0.9705 - val_loss: 0.0766 - val_accuracy: 0.9781\n",
      "Epoch 10/500\n",
      "263/263 [==============================] - 10s 40ms/step - loss: 0.0854 - accuracy: 0.9731 - val_loss: 0.0800 - val_accuracy: 0.9768\n",
      "Epoch 11/500\n",
      "263/263 [==============================] - 10s 40ms/step - loss: 0.0760 - accuracy: 0.9756 - val_loss: 0.0808 - val_accuracy: 0.9770\n",
      "Epoch 12/500\n",
      "263/263 [==============================] - 11s 41ms/step - loss: 0.0769 - accuracy: 0.9743 - val_loss: 0.0797 - val_accuracy: 0.9775\n",
      "Epoch 13/500\n",
      "263/263 [==============================] - 10s 38ms/step - loss: 0.0706 - accuracy: 0.9774 - val_loss: 0.0792 - val_accuracy: 0.9776\n",
      "Epoch 14/500\n",
      "263/263 [==============================] - 10s 37ms/step - loss: 0.0714 - accuracy: 0.9770 - val_loss: 0.0749 - val_accuracy: 0.9785\n",
      "Epoch 15/500\n",
      "263/263 [==============================] - 10s 39ms/step - loss: 0.0579 - accuracy: 0.9809 - val_loss: 0.0789 - val_accuracy: 0.9781\n",
      "Epoch 16/500\n",
      "263/263 [==============================] - 11s 42ms/step - loss: 0.0572 - accuracy: 0.9815 - val_loss: 0.0731 - val_accuracy: 0.9804\n",
      "Epoch 17/500\n",
      "263/263 [==============================] - 11s 42ms/step - loss: 0.0631 - accuracy: 0.9794 - val_loss: 0.0747 - val_accuracy: 0.9786\n",
      "Epoch 18/500\n",
      "263/263 [==============================] - 11s 43ms/step - loss: 0.0604 - accuracy: 0.9793 - val_loss: 0.0830 - val_accuracy: 0.9787\n",
      "Epoch 19/500\n",
      "263/263 [==============================] - 11s 42ms/step - loss: 0.0582 - accuracy: 0.9813 - val_loss: 0.0712 - val_accuracy: 0.9813\n",
      "Epoch 20/500\n",
      "263/263 [==============================] - 12s 46ms/step - loss: 0.0579 - accuracy: 0.9819 - val_loss: 0.0696 - val_accuracy: 0.9818\n",
      "Epoch 21/500\n",
      "263/263 [==============================] - 14s 54ms/step - loss: 0.0485 - accuracy: 0.9829 - val_loss: 0.0723 - val_accuracy: 0.9802\n",
      "Epoch 22/500\n",
      "263/263 [==============================] - 12s 47ms/step - loss: 0.0502 - accuracy: 0.9840 - val_loss: 0.0785 - val_accuracy: 0.9788\n",
      "Epoch 23/500\n",
      "263/263 [==============================] - 14s 52ms/step - loss: 0.0460 - accuracy: 0.9842 - val_loss: 0.0714 - val_accuracy: 0.9799\n",
      "Epoch 24/500\n",
      "263/263 [==============================] - 13s 49ms/step - loss: 0.0411 - accuracy: 0.9867 - val_loss: 0.0796 - val_accuracy: 0.9788\n",
      "Epoch 25/500\n",
      "263/263 [==============================] - 13s 51ms/step - loss: 0.0486 - accuracy: 0.9842 - val_loss: 0.0760 - val_accuracy: 0.9793\n",
      "Epoch 26/500\n",
      "263/263 [==============================] - 14s 53ms/step - loss: 0.0466 - accuracy: 0.9845 - val_loss: 0.0754 - val_accuracy: 0.9793\n",
      "Epoch 27/500\n",
      "263/263 [==============================] - 12s 47ms/step - loss: 0.0450 - accuracy: 0.9857 - val_loss: 0.0751 - val_accuracy: 0.9801\n",
      "Epoch 28/500\n",
      "263/263 [==============================] - 12s 47ms/step - loss: 0.0453 - accuracy: 0.9847 - val_loss: 0.0733 - val_accuracy: 0.9811\n",
      "Epoch 29/500\n",
      "263/263 [==============================] - 14s 53ms/step - loss: 0.0384 - accuracy: 0.9879 - val_loss: 0.0665 - val_accuracy: 0.9837\n",
      "Epoch 30/500\n",
      "263/263 [==============================] - 14s 54ms/step - loss: 0.0394 - accuracy: 0.9867 - val_loss: 0.0755 - val_accuracy: 0.9799\n",
      "Epoch 31/500\n",
      "263/263 [==============================] - 13s 51ms/step - loss: 0.0410 - accuracy: 0.9865 - val_loss: 0.0729 - val_accuracy: 0.9814\n",
      "Epoch 32/500\n",
      "263/263 [==============================] - 10s 39ms/step - loss: 0.0372 - accuracy: 0.9870 - val_loss: 0.0702 - val_accuracy: 0.9823\n",
      "Epoch 33/500\n",
      "263/263 [==============================] - 15s 58ms/step - loss: 0.0419 - accuracy: 0.9856 - val_loss: 0.0719 - val_accuracy: 0.9825\n",
      "Epoch 34/500\n",
      "263/263 [==============================] - 12s 45ms/step - loss: 0.0343 - accuracy: 0.9885 - val_loss: 0.0718 - val_accuracy: 0.9806\n",
      "Epoch 35/500\n",
      "263/263 [==============================] - 12s 44ms/step - loss: 0.0332 - accuracy: 0.9895 - val_loss: 0.0793 - val_accuracy: 0.9810\n",
      "Epoch 36/500\n",
      "263/263 [==============================] - 10s 39ms/step - loss: 0.0348 - accuracy: 0.9883 - val_loss: 0.0768 - val_accuracy: 0.9813\n",
      "Epoch 37/500\n",
      "263/263 [==============================] - 11s 41ms/step - loss: 0.0327 - accuracy: 0.9886 - val_loss: 0.0750 - val_accuracy: 0.9823\n",
      "Epoch 38/500\n",
      "263/263 [==============================] - 11s 43ms/step - loss: 0.0312 - accuracy: 0.9904 - val_loss: 0.0823 - val_accuracy: 0.9802\n",
      "Epoch 39/500\n",
      "263/263 [==============================] - 10s 37ms/step - loss: 0.0299 - accuracy: 0.9906 - val_loss: 0.0729 - val_accuracy: 0.9815\n"
     ]
    }
   ],
   "source": [
    "#MODEL FIT\n",
    "history = model.fit(\n",
    "    X_train, y_train,\n",
    "    validation_data=(X_test,y_test),\n",
    "    batch_size=128,\n",
    "    epochs=500,\n",
    "    callbacks = [early_stopping,lr_schedule]\n",
    ")\n"
   ]
  },
  {
   "cell_type": "code",
   "execution_count": 202,
   "id": "93b96b54",
   "metadata": {},
   "outputs": [
    {
     "name": "stdout",
     "output_type": "stream",
     "text": [
      "X_train shape: (29399, 784)\n",
      "y_train shape: (29399,)\n",
      "X_test shape: (12601, 784)\n",
      "y_test shape: (12601,)\n"
     ]
    }
   ],
   "source": [
    "print('X_train shape: {}\\ny_train shape: {}\\nX_test shape: {}\\ny_test shape: {}'.format(X_train.shape,y_train.shape,X_test.shape,y_test.shape))"
   ]
  },
  {
   "cell_type": "code",
   "execution_count": 19,
   "id": "2b79bcb4",
   "metadata": {
    "scrolled": true
   },
   "outputs": [],
   "source": [
    "history_df = pd.DataFrame(history.history)"
   ]
  },
  {
   "cell_type": "code",
   "execution_count": 20,
   "id": "ccc2afd4",
   "metadata": {},
   "outputs": [
    {
     "data": {
      "image/png": "[encoded data removed]",
      "text/plain": [
       "<Figure size 432x288 with 1 Axes>"
      ]
     },
     "metadata": {
      "needs_background": "light"
     },
     "output_type": "display_data"
    },
    {
     "data": {
      "image/png": "[encoded data removed]",
      "text/plain": [
       "<Figure size 432x288 with 1 Axes>"
      ]
     },
     "metadata": {
      "needs_background": "light"
     },
     "output_type": "display_data"
    }
   ],
   "source": [
    "history_df.loc[:, ['loss', 'val_loss']].plot()\n",
    "\n",
    "history_df.loc[:, ['accuracy', 'val_accuracy']].plot()\n",
    "\n",
    "plt.show()"
   ]
  },
  {
   "cell_type": "code",
   "execution_count": 21,
   "id": "78c4b527",
   "metadata": {
    "scrolled": true
   },
   "outputs": [
    {
     "name": "stdout",
     "output_type": "stream",
     "text": [
      "Maximum reached valid accuracy: 0.9837\n",
      "Minimum reached valid_loss: 0.0665\n"
     ]
    }
   ],
   "source": [
    "print('Maximum reached valid accuracy: {:.4}\\nMinimum reached valid_loss: {:.4}'.format(history_df['val_accuracy'].max(),history_df['val_loss'].min()))"
   ]
  },
  {
   "cell_type": "code",
   "execution_count": 23,
   "id": "cc54c131",
   "metadata": {
    "scrolled": true
   },
   "outputs": [
    {
     "ename": "AttributeError",
     "evalue": "'numpy.ndarray' object has no attribute 'to_numpy'",
     "output_type": "error",
     "traceback": [
      "\u001b[0;31m---------------------------------------------------------------------------\u001b[0m",
      "\u001b[0;31mAttributeError\u001b[0m                            Traceback (most recent call last)",
      "\u001b[0;32m/tmp/ipykernel_668956/1807707737.py\u001b[0m in \u001b[0;36m<module>\u001b[0;34m\u001b[0m\n\u001b[0;32m----> 1\u001b[0;31m \u001b[0mtest\u001b[0m \u001b[0;34m=\u001b[0m \u001b[0mtest\u001b[0m\u001b[0;34m.\u001b[0m\u001b[0mto_numpy\u001b[0m\u001b[0;34m(\u001b[0m\u001b[0;34m)\u001b[0m\u001b[0;34m\u001b[0m\u001b[0;34m\u001b[0m\u001b[0m\n\u001b[0m\u001b[1;32m      2\u001b[0m \u001b[0mtest\u001b[0m \u001b[0;34m=\u001b[0m \u001b[0mtest\u001b[0m\u001b[0;34m/\u001b[0m\u001b[0;36m255.0\u001b[0m\u001b[0;34m\u001b[0m\u001b[0;34m\u001b[0m\u001b[0m\n",
      "\u001b[0;31mAttributeError\u001b[0m: 'numpy.ndarray' object has no attribute 'to_numpy'"
     ]
    }
   ],
   "source": [
    "test = test.to_numpy()\n"
   ]
  },
  {
   "cell_type": "code",
   "execution_count": 24,
   "id": "1260ba30",
   "metadata": {},
   "outputs": [],
   "source": [
    "test = test/255.0"
   ]
  },
  {
   "cell_type": "code",
   "execution_count": 25,
   "id": "f2b5ad4b",
   "metadata": {},
   "outputs": [],
   "source": [
    "prediction = model.predict(test)"
   ]
  },
  {
   "cell_type": "code",
   "execution_count": 27,
   "id": "eca12f18",
   "metadata": {},
   "outputs": [
    {
     "data": {
      "text/plain": [
       "2"
      ]
     },
     "execution_count": 27,
     "metadata": {},
     "output_type": "execute_result"
    }
   ],
   "source": [
    "np.argmax(prediction[0])"
   ]
  },
  {
   "cell_type": "code",
   "execution_count": 32,
   "id": "5c5cdc5a",
   "metadata": {},
   "outputs": [
    {
     "data": {
      "image/png": "[encoded data removed]",
      "text/plain": [
       "<Figure size 720x720 with 20 Axes>"
      ]
     },
     "metadata": {
      "needs_background": "light"
     },
     "output_type": "display_data"
    }
   ],
   "source": [
    "plt.figure(figsize = (10,10))\n",
    "for i in range(1,21):\n",
    "    plt.subplot(4,5,i)\n",
    "    img = test[i].reshape(28,28)\n",
    "    plt.imshow(img)\n",
    "    plt.title('Number: {}'.format(np.argmax(prediction[i])))\n",
    "plt.suptitle('Sample of 20 predictions')\n",
    "plt.show()"
   ]
  },
  {
   "cell_type": "code",
   "execution_count": null,
   "id": "40f28042",
   "metadata": {},
   "outputs": [],
   "source": []
  }
 ],
 "metadata": {
  "kernelspec": {
   "display_name": "Python 3 (ipykernel)",
   "language": "python",
   "name": "python3"
  },
  "language_info": {
   "codemirror_mode": {
    "name": "ipython",
    "version": 3
   },
   "file_extension": ".py",
   "mimetype": "text/x-python",
   "name": "python",
   "nbconvert_exporter": "python",
   "pygments_lexer": "ipython3",
   "version": "3.9.7"
  }
 },
 "nbformat": 4,
 "nbformat_minor": 5
}
